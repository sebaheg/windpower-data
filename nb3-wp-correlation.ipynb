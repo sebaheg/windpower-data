{
 "cells": [
  {
   "cell_type": "markdown",
   "metadata": {
    "collapsed": true
   },
   "source": [
    "# Correlation of Regional Wind Power Data"
   ]
  },
  {
   "cell_type": "markdown",
   "metadata": {},
   "source": [
    "In this notebook we explore the interdependencies between wind power production in different Swedish price areas. The aim is to find if there are any dependencies at all and if they can be characterized qualitatively or quantitatively."
   ]
  },
  {
   "cell_type": "code",
   "execution_count": 48,
   "metadata": {
    "collapsed": true
   },
   "outputs": [],
   "source": [
    "# Import libraries\n",
    "import numpy as np\n",
    "import pandas as pd\n",
    "import scipy.stats as st\n",
    "import itertools\n",
    "from plotly import tools\n",
    "import plotly.plotly as py\n",
    "import plotly.graph_objs as go"
   ]
  },
  {
   "cell_type": "code",
   "execution_count": 49,
   "metadata": {
    "collapsed": false
   },
   "outputs": [],
   "source": [
    "# Import Nord Pool wind power data\n",
    "df_SE1 = pd.read_csv('data/wp_S_SE1.csv', sep=';', header=0, names=['Time', 'SE1'], index_col=0, usecols=[0,2], decimal=',')\n",
    "df_SE2 = pd.read_csv('data/wp_S_SE2.csv', sep=';', header=0, names=['Time', 'SE2'], index_col=0, usecols=[0,2], decimal=',')\n",
    "df_SE3 = pd.read_csv('data/wp_S_SE3.csv', sep=';', header=0, names=['Time', 'SE3'], index_col=0, usecols=[0,2], decimal=',')\n",
    "df_SE4 = pd.read_csv('data/wp_S_SE4.csv', sep=';', header=0, names=['Time', 'SE4'], index_col=0, usecols=[0,2], decimal=',')\n",
    "df_SE = pd.read_csv('data/wp_S_SE.csv', sep=';', header=0, names=['Time', 'SE'], index_col=0, usecols=[0, 2], decimal=',')"
   ]
  },
  {
   "cell_type": "code",
   "execution_count": 50,
   "metadata": {
    "collapsed": true
   },
   "outputs": [],
   "source": [
    "# Concatenate dataframes\n",
    "df = pd.concat([df_SE1, df_SE2, df_SE3, df_SE4, df_SE], axis=1)"
   ]
  },
  {
   "cell_type": "code",
   "execution_count": 52,
   "metadata": {
    "collapsed": false
   },
   "outputs": [
    {
     "data": {
      "text/html": [
       "<div>\n",
       "<style>\n",
       "    .dataframe thead tr:only-child th {\n",
       "        text-align: right;\n",
       "    }\n",
       "\n",
       "    .dataframe thead th {\n",
       "        text-align: left;\n",
       "    }\n",
       "\n",
       "    .dataframe tbody tr th {\n",
       "        vertical-align: top;\n",
       "    }\n",
       "</style>\n",
       "<table border=\"1\" class=\"dataframe\">\n",
       "  <thead>\n",
       "    <tr style=\"text-align: right;\">\n",
       "      <th></th>\n",
       "      <th>SE1</th>\n",
       "      <th>SE2</th>\n",
       "      <th>SE3</th>\n",
       "      <th>SE4</th>\n",
       "      <th>SE</th>\n",
       "    </tr>\n",
       "  </thead>\n",
       "  <tbody>\n",
       "    <tr>\n",
       "      <th>2014-12-01 00:00:00</th>\n",
       "      <td>0.035631</td>\n",
       "      <td>0.411486</td>\n",
       "      <td>0.335119</td>\n",
       "      <td>NaN</td>\n",
       "      <td>NaN</td>\n",
       "    </tr>\n",
       "    <tr>\n",
       "      <th>2014-12-01 01:00:00</th>\n",
       "      <td>0.032908</td>\n",
       "      <td>0.392756</td>\n",
       "      <td>0.348272</td>\n",
       "      <td>NaN</td>\n",
       "      <td>NaN</td>\n",
       "    </tr>\n",
       "    <tr>\n",
       "      <th>2014-12-01 02:00:00</th>\n",
       "      <td>0.049588</td>\n",
       "      <td>0.417992</td>\n",
       "      <td>0.323013</td>\n",
       "      <td>NaN</td>\n",
       "      <td>NaN</td>\n",
       "    </tr>\n",
       "    <tr>\n",
       "      <th>2014-12-01 03:00:00</th>\n",
       "      <td>0.072846</td>\n",
       "      <td>0.440685</td>\n",
       "      <td>0.315590</td>\n",
       "      <td>NaN</td>\n",
       "      <td>NaN</td>\n",
       "    </tr>\n",
       "    <tr>\n",
       "      <th>2014-12-01 04:00:00</th>\n",
       "      <td>0.092837</td>\n",
       "      <td>0.453358</td>\n",
       "      <td>0.323035</td>\n",
       "      <td>NaN</td>\n",
       "      <td>NaN</td>\n",
       "    </tr>\n",
       "  </tbody>\n",
       "</table>\n",
       "</div>"
      ],
      "text/plain": [
       "                          SE1       SE2       SE3  SE4  SE\n",
       "2014-12-01 00:00:00  0.035631  0.411486  0.335119  NaN NaN\n",
       "2014-12-01 01:00:00  0.032908  0.392756  0.348272  NaN NaN\n",
       "2014-12-01 02:00:00  0.049588  0.417992  0.323013  NaN NaN\n",
       "2014-12-01 03:00:00  0.072846  0.440685  0.315590  NaN NaN\n",
       "2014-12-01 04:00:00  0.092837  0.453358  0.323035  NaN NaN"
      ]
     },
     "execution_count": 52,
     "metadata": {},
     "output_type": "execute_result"
    }
   ],
   "source": [
    "# Convert to MWh and remove last row\n",
    "df = df/10**3\n",
    "df = df[:-1] \n",
    "df.index = pd.to_datetime(df.index)\n",
    "df.head()"
   ]
  },
  {
   "cell_type": "markdown",
   "metadata": {},
   "source": [
    "## Scatter matrix"
   ]
  },
  {
   "cell_type": "markdown",
   "metadata": {},
   "source": [
    "Using a scatter matrix, we can map out dependencies and correlations between wind power production in different price areas. Since we have a lot of data points, just plotting a scatter plot might not be the best way to visualizing the data because of overlaying data points. Instead, one can do a density plot using a kernel density estimation to spot locations in the scatter plot where data points cluster. "
   ]
  },
  {
   "cell_type": "code",
   "execution_count": 9,
   "metadata": {
    "collapsed": true
   },
   "outputs": [],
   "source": [
    "def kde_scipy(x, y, N):\n",
    "    x_min = x.min()\n",
    "    x_max = x.max()\n",
    "    y_min = y.min()\n",
    "    y_max = y.max()\n",
    "\n",
    "    x_space = np.linspace(x_min,x_max,N)\n",
    "    y_space = np.linspace(y_min,y_max,N)\n",
    "    X,Y = np.meshgrid(x_space,y_space)\n",
    "    \n",
    "    positions = np.vstack([X.ravel(), Y.ravel()])\n",
    "    values = np.vstack([x, y])\n",
    "    \n",
    "    kernel = st.gaussian_kde(values)\n",
    "    Z = np.reshape(kernel(positions).T, X.shape)\n",
    "\n",
    "    return [x_space, y_space, Z]"
   ]
  },
  {
   "cell_type": "code",
   "execution_count": 63,
   "metadata": {
    "collapsed": true
   },
   "outputs": [],
   "source": [
    "def scatter_matrix(df, N=200):\n",
    "    n = len(df.columns)\n",
    "    corr_matrix = df.corr(method='pearson').values.tolist()\n",
    "    corrs = ['{:.2f}'.format(corr) for sublist in corr_matrix for corr in sublist]\n",
    "    \n",
    "    fig = tools.make_subplots(rows=n, \n",
    "                              cols=n,\n",
    "                              shared_xaxes=True, \n",
    "                              shared_yaxes=True,\n",
    "                              subplot_titles=corrs)\n",
    "        \n",
    "    per_ind = itertools.product(range(1,n+1), repeat=2)\n",
    "    per_col = itertools.product(df.columns, repeat=2)\n",
    "    \n",
    "    for ind, col in zip(per_ind,per_col):\n",
    "        \n",
    "        if ind[0] == ind[1]:\n",
    "            x = df[col[0]].dropna()\n",
    "            x_norm = (x-min(x))/(max(x)-min(x))\n",
    "\n",
    "            trace = go.Histogram(x=x_norm, \n",
    "                                 histnorm='probability',\n",
    "                                 marker=go.Marker(color='rgb(0,0,128)'),\n",
    "                                 xbins=dict(start=0,\n",
    "                                            end=1,\n",
    "                                            size=0.16),\n",
    "                                 showlegend=False)\n",
    "            \n",
    "            fig.append_trace(trace, ind[1], ind[0])\n",
    "            \n",
    "        else:\n",
    "            df_temp = df[list(col)].dropna()\n",
    "            x = df_temp[col[0]]\n",
    "            y = df_temp[col[1]]\n",
    "            x_norm = (x-min(x))/(max(x)-min(x))\n",
    "            y_norm = (y-min(y))/(max(y)-min(y))\n",
    "\n",
    "            x_space, y_space, Z = kde_scipy(x=x_norm, y=y_norm, N=N)\n",
    "\n",
    "            trace1 = go.Contour(x=x_space,\n",
    "                                y=y_space,\n",
    "                                z=Z,\n",
    "                                colorscale='Viridis',\n",
    "                                showscale=False,\n",
    "                                name='Contour')\n",
    "\n",
    "            trace2 = go.Scatter(x=x_norm,\n",
    "                                y=y_norm, \n",
    "                                mode='markers',\n",
    "                                marker=go.Marker(size=1.5,\n",
    "                                                 color='white',\n",
    "                                                 opacity=0.4),\n",
    "                                name=col[0]+'-'+col[1],\n",
    "                                visible='legendonly')\n",
    "\n",
    "            fig.append_trace(trace1, ind[1], ind[0])\n",
    "            fig.append_trace(trace2, ind[1], ind[0])\n",
    "\n",
    "        if ind[1] == n:\n",
    "            fig['layout']['xaxis'+str(ind[0])].update(title=col[0])\n",
    "        if ind[0] == 1:\n",
    "            fig['layout']['yaxis'+str(ind[1])].update(title=col[1])\n",
    "\n",
    "    return fig"
   ]
  },
  {
   "cell_type": "code",
   "execution_count": 65,
   "metadata": {
    "collapsed": false
   },
   "outputs": [
    {
     "name": "stdout",
     "output_type": "stream",
     "text": [
      "This is the format of your plot grid:\n",
      "[ (1,1) x1,y1 ]  [ (1,2) x2,y1 ]  [ (1,3) x3,y1 ]  [ (1,4) x4,y1 ]\n",
      "[ (2,1) x1,y2 ]  [ (2,2) x2,y2 ]  [ (2,3) x3,y2 ]  [ (2,4) x4,y2 ]\n",
      "[ (3,1) x1,y3 ]  [ (3,2) x2,y3 ]  [ (3,3) x3,y3 ]  [ (3,4) x4,y3 ]\n",
      "[ (4,1) x1,y4 ]  [ (4,2) x2,y4 ]  [ (4,3) x3,y4 ]  [ (4,4) x4,y4 ]\n",
      "\n",
      "The draw time for this plot will be slow for all clients.\n"
     ]
    },
    {
     "name": "stderr",
     "output_type": "stream",
     "text": [
      "/Users/sebastianelgaidi/anaconda/lib/python3.5/site-packages/plotly/api/v1/clientresp.py:40: UserWarning:\n",
      "\n",
      "Estimated Draw Time Too Long\n",
      "\n"
     ]
    },
    {
     "data": {
      "text/html": [
       "<iframe id=\"igraph\" scrolling=\"no\" style=\"border:none;\" seamless=\"seamless\" src=\"https://plot.ly/~adamg33/782.embed\" height=\"900px\" width=\"900px\"></iframe>"
      ],
      "text/plain": [
       "<plotly.tools.PlotlyDisplay object>"
      ]
     },
     "execution_count": 65,
     "metadata": {},
     "output_type": "execute_result"
    }
   ],
   "source": [
    "fig = scatter_matrix(df[['SE1','SE2','SE3','SE4']], N=200)\n",
    "fig['layout'].update(height=900, width=900, title='Wind Power Scatter Matrix')\n",
    "py.iplot(fig)"
   ]
  },
  {
   "cell_type": "markdown",
   "metadata": {},
   "source": [
    "## Conclusion"
   ]
  },
  {
   "cell_type": "markdown",
   "metadata": {},
   "source": [
    "From the scatter matrix presented in this notebook it can be seen that wind power production in different price areas is indeed correlated. The strongest correlation is between area SE1/SE2 and SE3/SE4. Area SE1 and SE4 seem to only have a weak correlation. From a physical perspective it is reasonable that areas closer to eachother in space are more correlated. \n",
    "\n",
    "In the future, one interesting point would be to see how these correlations change in time. This could be done by allowing for the user to interactively change the investigated time period"
   ]
  },
  {
   "cell_type": "code",
   "execution_count": null,
   "metadata": {
    "collapsed": true
   },
   "outputs": [],
   "source": []
  }
 ],
 "metadata": {
  "anaconda-cloud": {},
  "kernelspec": {
   "display_name": "Python [conda root]",
   "language": "python",
   "name": "conda-root-py"
  },
  "language_info": {
   "codemirror_mode": {
    "name": "ipython",
    "version": 3
   },
   "file_extension": ".py",
   "mimetype": "text/x-python",
   "name": "python",
   "nbconvert_exporter": "python",
   "pygments_lexer": "ipython3",
   "version": "3.5.2"
  }
 },
 "nbformat": 4,
 "nbformat_minor": 1
}
