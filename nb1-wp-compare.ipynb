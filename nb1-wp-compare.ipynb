{
 "cells": [
  {
   "cell_type": "markdown",
   "metadata": {},
   "source": [
    "# Comparing Nord Pool and SVK Regional Wind Power Data"
   ]
  },
  {
   "cell_type": "markdown",
   "metadata": {},
   "source": [
    "Sweden is divided into four different price areas. On the day-ahead market, participants need to bid into these areas with their expected production or consumption. These areas are shown geographically in the figure below.\n",
    "\n",
    "![title](Areas_Sweden.png)\n",
    "\n",
    "Public regional wind power data is available for all this areas with some days/weeks lag fram real time. There are two different providers of this data:\n",
    "\n",
    "* [Nord Pool](http://www.nordpoolspot.com/historical-market-data/)\n",
    "* [SVK](https://mimer.svk.se/ProductionConsumption/ProductionIndex)\n",
    "\n",
    "In this notebook we will compare these two datasets with each other. It is expected that the data is identical. "
   ]
  },
  {
   "cell_type": "markdown",
   "metadata": {},
   "source": [
    "## Import Python libraries"
   ]
  },
  {
   "cell_type": "code",
   "execution_count": 1,
   "metadata": {
    "collapsed": false
   },
   "outputs": [],
   "source": [
    "# Import libraries\n",
    "import numpy as np\n",
    "import pandas as pd\n",
    "import plotly.plotly as py\n",
    "import plotly.graph_objs as go\n",
    "import plotly.figure_factory as ff"
   ]
  },
  {
   "cell_type": "markdown",
   "metadata": {},
   "source": [
    "## Import data"
   ]
  },
  {
   "cell_type": "markdown",
   "metadata": {},
   "source": [
    "### Nord Pool data"
   ]
  },
  {
   "cell_type": "code",
   "execution_count": 2,
   "metadata": {
    "collapsed": false
   },
   "outputs": [],
   "source": [
    "# Import Nord Pool wind power data\n",
    "df_N_2015 = pd.read_excel('data/wp_N_2015.xlsx', header=2, index_col=None)\n",
    "df_N_2016 = pd.read_excel('data/wp_N_2016.xlsx', header=2, index_col=None)\n",
    "df_N_2017 = pd.read_excel('data/wp_N_2017.xlsx', header=2, index_col=None)\n",
    "df_N = pd.concat([df_N_2015, df_N_2016, df_N_2017], axis=0, ignore_index=True)"
   ]
  },
  {
   "cell_type": "code",
   "execution_count": 3,
   "metadata": {
    "collapsed": false
   },
   "outputs": [],
   "source": [
    "# Format dataframe\n",
    "df_N.index = pd.to_datetime(df_N['Date']+' '+df_N['Hours'].apply(lambda x: x.split()[0]), format='%d-%m-%Y %H')\n",
    "df_N.index.name = 'Time'\n",
    "df_N = df_N.drop(['Date', 'Hours'], axis=1)"
   ]
  },
  {
   "cell_type": "code",
   "execution_count": 4,
   "metadata": {
    "collapsed": false
   },
   "outputs": [
    {
     "name": "stdout",
     "output_type": "stream",
     "text": [
      "False\n",
      "True\n"
     ]
    }
   ],
   "source": [
    "# Remove duplicate indices\n",
    "print(df_N.index.is_unique)\n",
    "df_N = df_N[~df_N.index.duplicated(keep='first')] #\n",
    "print(df_N.index.is_unique)"
   ]
  },
  {
   "cell_type": "code",
   "execution_count": 5,
   "metadata": {
    "collapsed": false
   },
   "outputs": [
    {
     "data": {
      "text/html": [
       "<div>\n",
       "<style>\n",
       "    .dataframe thead tr:only-child th {\n",
       "        text-align: right;\n",
       "    }\n",
       "\n",
       "    .dataframe thead th {\n",
       "        text-align: left;\n",
       "    }\n",
       "\n",
       "    .dataframe tbody tr th {\n",
       "        vertical-align: top;\n",
       "    }\n",
       "</style>\n",
       "<table border=\"1\" class=\"dataframe\">\n",
       "  <thead>\n",
       "    <tr style=\"text-align: right;\">\n",
       "      <th></th>\n",
       "      <th>SE1</th>\n",
       "      <th>SE2</th>\n",
       "      <th>SE3</th>\n",
       "      <th>SE4</th>\n",
       "      <th>SE</th>\n",
       "    </tr>\n",
       "    <tr>\n",
       "      <th>Time</th>\n",
       "      <th></th>\n",
       "      <th></th>\n",
       "      <th></th>\n",
       "      <th></th>\n",
       "      <th></th>\n",
       "    </tr>\n",
       "  </thead>\n",
       "  <tbody>\n",
       "    <tr>\n",
       "      <th>2015-02-03 08:00:00</th>\n",
       "      <td>141.0</td>\n",
       "      <td>429.0</td>\n",
       "      <td>623.0</td>\n",
       "      <td>144.0</td>\n",
       "      <td>1338.0</td>\n",
       "    </tr>\n",
       "    <tr>\n",
       "      <th>2015-02-03 09:00:00</th>\n",
       "      <td>131.0</td>\n",
       "      <td>390.0</td>\n",
       "      <td>608.0</td>\n",
       "      <td>138.0</td>\n",
       "      <td>1266.0</td>\n",
       "    </tr>\n",
       "    <tr>\n",
       "      <th>2015-02-03 10:00:00</th>\n",
       "      <td>116.0</td>\n",
       "      <td>375.0</td>\n",
       "      <td>547.0</td>\n",
       "      <td>181.0</td>\n",
       "      <td>1153.0</td>\n",
       "    </tr>\n",
       "    <tr>\n",
       "      <th>2015-02-03 11:00:00</th>\n",
       "      <td>114.0</td>\n",
       "      <td>335.0</td>\n",
       "      <td>500.0</td>\n",
       "      <td>184.0</td>\n",
       "      <td>1057.0</td>\n",
       "    </tr>\n",
       "    <tr>\n",
       "      <th>2015-02-03 12:00:00</th>\n",
       "      <td>99.0</td>\n",
       "      <td>317.0</td>\n",
       "      <td>463.0</td>\n",
       "      <td>116.0</td>\n",
       "      <td>994.0</td>\n",
       "    </tr>\n",
       "  </tbody>\n",
       "</table>\n",
       "</div>"
      ],
      "text/plain": [
       "                       SE1    SE2    SE3    SE4      SE\n",
       "Time                                                   \n",
       "2015-02-03 08:00:00  141.0  429.0  623.0  144.0  1338.0\n",
       "2015-02-03 09:00:00  131.0  390.0  608.0  138.0  1266.0\n",
       "2015-02-03 10:00:00  116.0  375.0  547.0  181.0  1153.0\n",
       "2015-02-03 11:00:00  114.0  335.0  500.0  184.0  1057.0\n",
       "2015-02-03 12:00:00   99.0  317.0  463.0  116.0   994.0"
      ]
     },
     "execution_count": 5,
     "metadata": {},
     "output_type": "execute_result"
    }
   ],
   "source": [
    "df_N[800:805]"
   ]
  },
  {
   "cell_type": "markdown",
   "metadata": {},
   "source": [
    "### SVK data"
   ]
  },
  {
   "cell_type": "code",
   "execution_count": 6,
   "metadata": {
    "collapsed": false
   },
   "outputs": [],
   "source": [
    "# Import SVK wind power data\n",
    "df_S_SE1 = pd.read_csv('data/wp_S_SE1.csv', sep=';', header=0, names=['Time', 'SE1'], index_col=0, usecols=[0,2], decimal=',')\n",
    "df_S_SE2 = pd.read_csv('data/wp_S_SE2.csv', sep=';', header=0, names=['Time', 'SE2'], index_col=0, usecols=[0,2], decimal=',')\n",
    "df_S_SE3 = pd.read_csv('data/wp_S_SE3.csv', sep=';', header=0, names=['Time', 'SE3'], index_col=0, usecols=[0,2], decimal=',')\n",
    "df_S_SE4 = pd.read_csv('data/wp_S_SE4.csv', sep=';', header=0, names=['Time', 'SE4'], index_col=0, usecols=[0,2], decimal=',')\n",
    "df_S_SE = pd.read_csv('data/wp_S_SE.csv', sep=';', header=0, names=['Time', 'SE'], index_col=0, usecols=[0, 2], decimal=',')"
   ]
  },
  {
   "cell_type": "code",
   "execution_count": 7,
   "metadata": {
    "collapsed": false
   },
   "outputs": [],
   "source": [
    "# Concatenate dataframes\n",
    "df_S = pd.concat([df_S_SE1, df_S_SE2, df_S_SE3, df_S_SE4, df_S_SE], axis=1)"
   ]
  },
  {
   "cell_type": "code",
   "execution_count": 8,
   "metadata": {
    "collapsed": false
   },
   "outputs": [
    {
     "data": {
      "text/html": [
       "<div>\n",
       "<style>\n",
       "    .dataframe thead tr:only-child th {\n",
       "        text-align: right;\n",
       "    }\n",
       "\n",
       "    .dataframe thead th {\n",
       "        text-align: left;\n",
       "    }\n",
       "\n",
       "    .dataframe tbody tr th {\n",
       "        vertical-align: top;\n",
       "    }\n",
       "</style>\n",
       "<table border=\"1\" class=\"dataframe\">\n",
       "  <thead>\n",
       "    <tr style=\"text-align: right;\">\n",
       "      <th></th>\n",
       "      <th>SE1</th>\n",
       "      <th>SE2</th>\n",
       "      <th>SE3</th>\n",
       "      <th>SE4</th>\n",
       "      <th>SE</th>\n",
       "    </tr>\n",
       "  </thead>\n",
       "  <tbody>\n",
       "    <tr>\n",
       "      <th>2014-12-01 00:00</th>\n",
       "      <td>35.631305</td>\n",
       "      <td>411.486402</td>\n",
       "      <td>335.119003</td>\n",
       "      <td>NaN</td>\n",
       "      <td>NaN</td>\n",
       "    </tr>\n",
       "    <tr>\n",
       "      <th>2014-12-01 01:00</th>\n",
       "      <td>32.907812</td>\n",
       "      <td>392.756380</td>\n",
       "      <td>348.271535</td>\n",
       "      <td>NaN</td>\n",
       "      <td>NaN</td>\n",
       "    </tr>\n",
       "    <tr>\n",
       "      <th>2014-12-01 02:00</th>\n",
       "      <td>49.587869</td>\n",
       "      <td>417.991980</td>\n",
       "      <td>323.013154</td>\n",
       "      <td>NaN</td>\n",
       "      <td>NaN</td>\n",
       "    </tr>\n",
       "    <tr>\n",
       "      <th>2014-12-01 03:00</th>\n",
       "      <td>72.845760</td>\n",
       "      <td>440.684582</td>\n",
       "      <td>315.589557</td>\n",
       "      <td>NaN</td>\n",
       "      <td>NaN</td>\n",
       "    </tr>\n",
       "    <tr>\n",
       "      <th>2014-12-01 04:00</th>\n",
       "      <td>92.836764</td>\n",
       "      <td>453.357844</td>\n",
       "      <td>323.035225</td>\n",
       "      <td>NaN</td>\n",
       "      <td>NaN</td>\n",
       "    </tr>\n",
       "  </tbody>\n",
       "</table>\n",
       "</div>"
      ],
      "text/plain": [
       "                        SE1         SE2         SE3  SE4  SE\n",
       "2014-12-01 00:00  35.631305  411.486402  335.119003  NaN NaN\n",
       "2014-12-01 01:00  32.907812  392.756380  348.271535  NaN NaN\n",
       "2014-12-01 02:00  49.587869  417.991980  323.013154  NaN NaN\n",
       "2014-12-01 03:00  72.845760  440.684582  315.589557  NaN NaN\n",
       "2014-12-01 04:00  92.836764  453.357844  323.035225  NaN NaN"
      ]
     },
     "execution_count": 8,
     "metadata": {},
     "output_type": "execute_result"
    }
   ],
   "source": [
    "# Convert to MWh and remove last row\n",
    "df_S = df_S/10**3\n",
    "df_S = df_S[:-1] \n",
    "df_S.head()"
   ]
  },
  {
   "cell_type": "markdown",
   "metadata": {},
   "source": [
    "## Time series plot"
   ]
  },
  {
   "cell_type": "markdown",
   "metadata": {},
   "source": [
    "By comparing the Nord Pool and SVK wind power time series it seems like it is indeed the same data. However, for the individual areas, SVK has data for about one more month compared to Nord Pool. While for the aggregated time series of all Swedish areas, Nord Pool seems to have more stored data.  "
   ]
  },
  {
   "cell_type": "code",
   "execution_count": 9,
   "metadata": {
    "collapsed": false
   },
   "outputs": [],
   "source": [
    "def ts_plot(df_N, df_S, area):\n",
    "    trace_N = go.Scatter(x=df_N.index, y=df_N[area], name='Nord Pool')\n",
    "    trace_S = go.Scatter(x=df_S.index, y=df_S[area], name='SVK')\n",
    "    data = [trace_N, trace_S]\n",
    "    \n",
    "    layout = dict(\n",
    "        title='Wind Power Production in ' + area,\n",
    "        xaxis=dict(\n",
    "            rangeselector=dict(\n",
    "                buttons=list([\n",
    "                    dict(count=1,\n",
    "                         label='1m',\n",
    "                         step='month',\n",
    "                         stepmode='backward'),\n",
    "                    dict(count=6,\n",
    "                         label='6m',\n",
    "                         step='month',\n",
    "                         stepmode='backward'),\n",
    "                    dict(count=1,\n",
    "                         label='1y',\n",
    "                         step='year',\n",
    "                         stepmode='backward'),\n",
    "                    dict(step='all')\n",
    "                ])\n",
    "            ),\n",
    "            rangeslider=dict(),\n",
    "            type='date',\n",
    "            range = ['2017-06-25','2017-08-21']\n",
    "        ),\n",
    "        yaxis=dict(title='Production [MW]'),\n",
    "    )\n",
    "\n",
    "    fig = dict(data=data, layout=layout)\n",
    "    \n",
    "    return fig"
   ]
  },
  {
   "cell_type": "code",
   "execution_count": 10,
   "metadata": {
    "collapsed": false,
    "scrolled": false
   },
   "outputs": [
    {
     "name": "stdout",
     "output_type": "stream",
     "text": [
      "The draw time for this plot will be slow for clients without much RAM.\n"
     ]
    },
    {
     "name": "stderr",
     "output_type": "stream",
     "text": [
      "/Users/sebastianelgaidi/anaconda/lib/python3.5/site-packages/plotly/api/v1/clientresp.py:40: UserWarning:\n",
      "\n",
      "Estimated Draw Time Slow\n",
      "\n"
     ]
    },
    {
     "data": {
      "text/html": [
       "<iframe id=\"igraph\" scrolling=\"no\" style=\"border:none;\" seamless=\"seamless\" src=\"https://plot.ly/~adamg33/640.embed\" height=\"525px\" width=\"100%\"></iframe>"
      ],
      "text/plain": [
       "<plotly.tools.PlotlyDisplay object>"
      ]
     },
     "execution_count": 10,
     "metadata": {},
     "output_type": "execute_result"
    }
   ],
   "source": [
    "fig = ts_plot(df_N, df_S, area='SE1')\n",
    "py.iplot(fig)"
   ]
  },
  {
   "cell_type": "code",
   "execution_count": 11,
   "metadata": {
    "collapsed": false
   },
   "outputs": [
    {
     "name": "stdout",
     "output_type": "stream",
     "text": [
      "The draw time for this plot will be slow for clients without much RAM.\n"
     ]
    },
    {
     "name": "stderr",
     "output_type": "stream",
     "text": [
      "/Users/sebastianelgaidi/anaconda/lib/python3.5/site-packages/plotly/api/v1/clientresp.py:40: UserWarning:\n",
      "\n",
      "Estimated Draw Time Slow\n",
      "\n"
     ]
    },
    {
     "data": {
      "text/html": [
       "<iframe id=\"igraph\" scrolling=\"no\" style=\"border:none;\" seamless=\"seamless\" src=\"https://plot.ly/~adamg33/626.embed\" height=\"525px\" width=\"100%\"></iframe>"
      ],
      "text/plain": [
       "<plotly.tools.PlotlyDisplay object>"
      ]
     },
     "execution_count": 11,
     "metadata": {},
     "output_type": "execute_result"
    }
   ],
   "source": [
    "fig = ts_plot(df_N, df_S, area='SE2')\n",
    "py.iplot(fig)"
   ]
  },
  {
   "cell_type": "code",
   "execution_count": 12,
   "metadata": {
    "collapsed": false
   },
   "outputs": [
    {
     "name": "stdout",
     "output_type": "stream",
     "text": [
      "The draw time for this plot will be slow for clients without much RAM.\n"
     ]
    },
    {
     "name": "stderr",
     "output_type": "stream",
     "text": [
      "/Users/sebastianelgaidi/anaconda/lib/python3.5/site-packages/plotly/api/v1/clientresp.py:40: UserWarning:\n",
      "\n",
      "Estimated Draw Time Slow\n",
      "\n"
     ]
    },
    {
     "data": {
      "text/html": [
       "<iframe id=\"igraph\" scrolling=\"no\" style=\"border:none;\" seamless=\"seamless\" src=\"https://plot.ly/~adamg33/628.embed\" height=\"525px\" width=\"100%\"></iframe>"
      ],
      "text/plain": [
       "<plotly.tools.PlotlyDisplay object>"
      ]
     },
     "execution_count": 12,
     "metadata": {},
     "output_type": "execute_result"
    }
   ],
   "source": [
    "fig = ts_plot(df_N, df_S, area='SE3')\n",
    "py.iplot(fig)"
   ]
  },
  {
   "cell_type": "code",
   "execution_count": 13,
   "metadata": {
    "collapsed": false
   },
   "outputs": [
    {
     "name": "stdout",
     "output_type": "stream",
     "text": [
      "The draw time for this plot will be slow for clients without much RAM.\n"
     ]
    },
    {
     "name": "stderr",
     "output_type": "stream",
     "text": [
      "/Users/sebastianelgaidi/anaconda/lib/python3.5/site-packages/plotly/api/v1/clientresp.py:40: UserWarning:\n",
      "\n",
      "Estimated Draw Time Slow\n",
      "\n"
     ]
    },
    {
     "data": {
      "text/html": [
       "<iframe id=\"igraph\" scrolling=\"no\" style=\"border:none;\" seamless=\"seamless\" src=\"https://plot.ly/~adamg33/630.embed\" height=\"525px\" width=\"100%\"></iframe>"
      ],
      "text/plain": [
       "<plotly.tools.PlotlyDisplay object>"
      ]
     },
     "execution_count": 13,
     "metadata": {},
     "output_type": "execute_result"
    }
   ],
   "source": [
    "fig = ts_plot(df_N, df_S, area='SE4')\n",
    "py.iplot(fig)"
   ]
  },
  {
   "cell_type": "code",
   "execution_count": 14,
   "metadata": {
    "collapsed": false
   },
   "outputs": [
    {
     "name": "stdout",
     "output_type": "stream",
     "text": [
      "The draw time for this plot will be slow for clients without much RAM.\n"
     ]
    },
    {
     "name": "stderr",
     "output_type": "stream",
     "text": [
      "/Users/sebastianelgaidi/anaconda/lib/python3.5/site-packages/plotly/api/v1/clientresp.py:40: UserWarning:\n",
      "\n",
      "Estimated Draw Time Slow\n",
      "\n"
     ]
    },
    {
     "data": {
      "text/html": [
       "<iframe id=\"igraph\" scrolling=\"no\" style=\"border:none;\" seamless=\"seamless\" src=\"https://plot.ly/~adamg33/632.embed\" height=\"525px\" width=\"100%\"></iframe>"
      ],
      "text/plain": [
       "<plotly.tools.PlotlyDisplay object>"
      ]
     },
     "execution_count": 14,
     "metadata": {},
     "output_type": "execute_result"
    }
   ],
   "source": [
    "fig = ts_plot(df_N, df_S, area='SE')\n",
    "py.iplot(fig)"
   ]
  },
  {
   "cell_type": "markdown",
   "metadata": {},
   "source": [
    "## Histogram"
   ]
  },
  {
   "cell_type": "markdown",
   "metadata": {},
   "source": [
    "It is hard to determine from the time series plot if the two different sources (Nord Pool and SVK) are indeed providing the same data. Therefore, we will take a look at the residual between the datasets by using a histogram. As can be seen the residuals are mostly close to zero and symetrically centered around zero. This indicates that there is no bias between the datasets. "
   ]
  },
  {
   "cell_type": "code",
   "execution_count": 21,
   "metadata": {
    "collapsed": false,
    "scrolled": false
   },
   "outputs": [
    {
     "data": {
      "text/html": [
       "<iframe id=\"igraph\" scrolling=\"no\" style=\"border:none;\" seamless=\"seamless\" src=\"https://plot.ly/~adamg33/654.embed\" height=\"525px\" width=\"100%\"></iframe>"
      ],
      "text/plain": [
       "<plotly.tools.PlotlyDisplay object>"
      ]
     },
     "execution_count": 21,
     "metadata": {},
     "output_type": "execute_result"
    }
   ],
   "source": [
    "trace_SE1 = go.Histogram(x=df_N.SE1-df_S.SE1, xbins=dict(start=-5, end=5, size=0.2), histnorm='probability', name = 'SE1')\n",
    "trace_SE2 = go.Histogram(x=df_N.SE2-df_S.SE2, xbins=dict(start=-5, end=5, size=0.2), histnorm='probability', name = 'SE2')\n",
    "trace_SE3 = go.Histogram(x=df_N.SE3-df_S.SE3, xbins=dict(start=-5, end=5, size=0.2), histnorm='probability', name = 'SE3')\n",
    "trace_SE4 = go.Histogram(x=df_N.SE4-df_S.SE4, xbins=dict(start=-5, end=5, size=0.2), histnorm='probability', name = 'SE4')\n",
    "\n",
    "data = [trace_SE1, trace_SE2, trace_SE3, trace_SE4]\n",
    "layout = go.Layout(title='Residual between Nord Pool and SVK data',\n",
    "                   xaxis=dict(title='Residual [MW]'),\n",
    "                   yaxis=dict(title='Probability'))\n",
    "fig = dict(data=data, layout=layout)\n",
    "py.iplot(fig)"
   ]
  },
  {
   "cell_type": "markdown",
   "metadata": {},
   "source": [
    "## Scatter plot"
   ]
  },
  {
   "cell_type": "markdown",
   "metadata": {},
   "source": [
    "Another way to look at the residuals is by comparing Nord Pool and SVK production data direcly in a scatter plot. By zooming in, the fact that Nord Pool is rounding the data to whole MW becomes apparent."
   ]
  },
  {
   "cell_type": "code",
   "execution_count": 3,
   "metadata": {
    "collapsed": false
   },
   "outputs": [],
   "source": [
    "def scatter_plot(df_N, df_S, area):\n",
    "    df = df_N[[area]].join(df_S[[area]], lsuffix='_N', rsuffix='_S')\n",
    "    \n",
    "    trace = go.Scatter(x=df[area+'_N'], y=df[area+'_S'], mode='markers')\n",
    "    layout = go.Layout(title='Wind Power Correlation in ' + area,\n",
    "                       xaxis=dict(title='Nord Pool'),\n",
    "                       yaxis=dict(title='SVK'))\n",
    "    data = [trace]\n",
    "    fig = go.Figure(data=data, layout=layout)\n",
    "    \n",
    "    return fig"
   ]
  },
  {
   "cell_type": "code",
   "execution_count": 4,
   "metadata": {
    "collapsed": false
   },
   "outputs": [
    {
     "ename": "NameError",
     "evalue": "name 'df_N' is not defined",
     "output_type": "error",
     "traceback": [
      "\u001b[0;31m---------------------------------------------------------------------------\u001b[0m",
      "\u001b[0;31mNameError\u001b[0m                                 Traceback (most recent call last)",
      "\u001b[0;32m<ipython-input-4-039d7421d167>\u001b[0m in \u001b[0;36m<module>\u001b[0;34m()\u001b[0m\n\u001b[0;32m----> 1\u001b[0;31m \u001b[0mfig\u001b[0m \u001b[0;34m=\u001b[0m \u001b[0mscatter_plot\u001b[0m\u001b[0;34m(\u001b[0m\u001b[0mdf_N\u001b[0m\u001b[0;34m,\u001b[0m \u001b[0mdf_S\u001b[0m\u001b[0;34m,\u001b[0m \u001b[0marea\u001b[0m\u001b[0;34m=\u001b[0m\u001b[0;34m'SE1'\u001b[0m\u001b[0;34m)\u001b[0m\u001b[0;34m\u001b[0m\u001b[0m\n\u001b[0m\u001b[1;32m      2\u001b[0m \u001b[0mpy\u001b[0m\u001b[0;34m.\u001b[0m\u001b[0miplot\u001b[0m\u001b[0;34m(\u001b[0m\u001b[0mfig\u001b[0m\u001b[0;34m)\u001b[0m\u001b[0;34m\u001b[0m\u001b[0m\n",
      "\u001b[0;31mNameError\u001b[0m: name 'df_N' is not defined"
     ]
    }
   ],
   "source": [
    "fig = scatter_plot(df_N, df_S, area='SE1')\n",
    "py.iplot(fig)"
   ]
  },
  {
   "cell_type": "code",
   "execution_count": 18,
   "metadata": {
    "collapsed": false
   },
   "outputs": [
    {
     "data": {
      "text/html": [
       "<iframe id=\"igraph\" scrolling=\"no\" style=\"border:none;\" seamless=\"seamless\" src=\"https://plot.ly/~adamg33/602.embed\" height=\"525px\" width=\"100%\"></iframe>"
      ],
      "text/plain": [
       "<plotly.tools.PlotlyDisplay object>"
      ]
     },
     "execution_count": 18,
     "metadata": {},
     "output_type": "execute_result"
    }
   ],
   "source": [
    "fig = scatter_plot(df_N, df_S, area='SE2')\n",
    "py.iplot(fig)"
   ]
  },
  {
   "cell_type": "code",
   "execution_count": 19,
   "metadata": {
    "collapsed": false
   },
   "outputs": [
    {
     "data": {
      "text/html": [
       "<iframe id=\"igraph\" scrolling=\"no\" style=\"border:none;\" seamless=\"seamless\" src=\"https://plot.ly/~adamg33/604.embed\" height=\"525px\" width=\"100%\"></iframe>"
      ],
      "text/plain": [
       "<plotly.tools.PlotlyDisplay object>"
      ]
     },
     "execution_count": 19,
     "metadata": {},
     "output_type": "execute_result"
    }
   ],
   "source": [
    "fig = scatter_plot(df_N, df_S, area='SE3')\n",
    "py.iplot(fig)"
   ]
  },
  {
   "cell_type": "code",
   "execution_count": 20,
   "metadata": {
    "collapsed": false
   },
   "outputs": [
    {
     "data": {
      "text/html": [
       "<iframe id=\"igraph\" scrolling=\"no\" style=\"border:none;\" seamless=\"seamless\" src=\"https://plot.ly/~adamg33/606.embed\" height=\"525px\" width=\"100%\"></iframe>"
      ],
      "text/plain": [
       "<plotly.tools.PlotlyDisplay object>"
      ]
     },
     "execution_count": 20,
     "metadata": {},
     "output_type": "execute_result"
    }
   ],
   "source": [
    "fig = scatter_plot(df_N, df_S, area='SE4')\n",
    "py.iplot(fig)"
   ]
  },
  {
   "cell_type": "code",
   "execution_count": 18,
   "metadata": {
    "collapsed": false
   },
   "outputs": [
    {
     "data": {
      "text/html": [
       "<iframe id=\"igraph\" scrolling=\"no\" style=\"border:none;\" seamless=\"seamless\" src=\"https://plot.ly/~adamg33/638.embed\" height=\"525px\" width=\"100%\"></iframe>"
      ],
      "text/plain": [
       "<plotly.tools.PlotlyDisplay object>"
      ]
     },
     "execution_count": 18,
     "metadata": {},
     "output_type": "execute_result"
    }
   ],
   "source": [
    "fig = scatter_plot(df_N, df_S, area='SE')\n",
    "py.iplot(fig)"
   ]
  },
  {
   "cell_type": "markdown",
   "metadata": {},
   "source": [
    "## Conclusion"
   ]
  },
  {
   "cell_type": "markdown",
   "metadata": {},
   "source": [
    "From this preliminary analysis of the regional wind power data we conclude that the two datasets (Nord Pool and SVK) are indeed very similar. The main reason for the difference between the datasets seems to be rounding. However, there are several residuals that has absolute value above 0.5 MW. This means that there are other unknown reasons why the datasets are different. Since the Nord Pool data is rounded and not availble for the first month on area level, it is anticipated that the SVK data is of higher quality. "
   ]
  },
  {
   "cell_type": "code",
   "execution_count": null,
   "metadata": {
    "collapsed": true
   },
   "outputs": [],
   "source": []
  }
 ],
 "metadata": {
  "anaconda-cloud": {},
  "kernelspec": {
   "display_name": "Python [conda root]",
   "language": "python",
   "name": "conda-root-py"
  },
  "language_info": {
   "codemirror_mode": {
    "name": "ipython",
    "version": 3
   },
   "file_extension": ".py",
   "mimetype": "text/x-python",
   "name": "python",
   "nbconvert_exporter": "python",
   "pygments_lexer": "ipython3",
   "version": "3.5.2"
  }
 },
 "nbformat": 4,
 "nbformat_minor": 1
}
